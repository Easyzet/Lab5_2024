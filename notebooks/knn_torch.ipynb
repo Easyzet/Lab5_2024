{
 "cells": [
  {
   "cell_type": "markdown",
   "id": "E_d5AXrwYP59",
   "metadata": {
    "id": "E_d5AXrwYP59"
   },
   "source": [
    "# knn в pytorch\n",
    "\n",
    "## Работа №1\n",
    "\n",
    "\n",
    "---\n",
    "\n",
    "\n",
    "ФИО: Першин-Милютин Эдуард Михайлович\n",
    "\n",
    "Группа: 234-321\n",
    "\n",
    "\n",
    "\n",
    "---\n",
    "\n",
    "\n",
    "\n",
    "Далее в ноутбуке будут пропущенны части кода с комментариями о том что необходимо написать. А также текстовые ячейки с вопросами, на которые вам необходимо дать ответы."
   ]
  },
  {
   "cell_type": "markdown",
   "id": "Qy4QpEC_ZDcJ",
   "metadata": {
    "id": "Qy4QpEC_ZDcJ"
   },
   "source": [
    "## Импорт необходимых для работы модулей"
   ]
  },
  {
   "cell_type": "code",
   "execution_count": 1,
   "id": "47952233-90c0-4b23-9935-4d40a535f17e",
   "metadata": {
    "executionInfo": {
     "elapsed": 6889,
     "status": "ok",
     "timestamp": 1698585249061,
     "user": {
      "displayName": "Максим Соломинов",
      "userId": "06522016737720072557"
     },
     "user_tz": -180
    },
    "id": "47952233-90c0-4b23-9935-4d40a535f17e"
   },
   "outputs": [],
   "source": [
    "import torch\n",
    "from torchvision import datasets\n",
    "import matplotlib.pyplot as plt\n",
    "\n",
    "# Настройки для графиков\n",
    "%matplotlib inline\n",
    "plt.rcParams['image.interpolation'] = 'nearest'\n",
    "plt.rcParams['image.cmap'] = 'gray'"
   ]
  },
  {
   "cell_type": "markdown",
   "id": "EJnKhe5-lcUp",
   "metadata": {
    "id": "EJnKhe5-lcUp"
   },
   "source": [
    "## Загрузка и подготовка данных"
   ]
  },
  {
   "cell_type": "code",
   "execution_count": 2,
   "id": "e8ee1c1d-7b98-49c4-af0a-9fe8836bb69a",
   "metadata": {
    "colab": {
     "base_uri": "https://localhost:8080/"
    },
    "executionInfo": {
     "elapsed": 7348,
     "status": "ok",
     "timestamp": 1698585268100,
     "user": {
      "displayName": "Максим Соломинов",
      "userId": "06522016737720072557"
     },
     "user_tz": -180
    },
    "id": "e8ee1c1d-7b98-49c4-af0a-9fe8836bb69a",
    "outputId": "445352e1-4508-4fb4-9a8a-6e5c3a1d839b"
   },
   "outputs": [
    {
     "name": "stdout",
     "output_type": "stream",
     "text": [
      "Downloading https://www.cs.toronto.edu/~kriz/cifar-10-python.tar.gz to data/cifar-10-python.tar.gz\n"
     ]
    },
    {
     "name": "stderr",
     "output_type": "stream",
     "text": [
      "100%|██████████| 170498071/170498071 [00:01<00:00, 87484794.12it/s] \n"
     ]
    },
    {
     "name": "stdout",
     "output_type": "stream",
     "text": [
      "Extracting data/cifar-10-python.tar.gz to data\n",
      "Files already downloaded and verified\n"
     ]
    }
   ],
   "source": [
    "# Загрузка обучающей и тестовой выборки\n",
    "train_set = datasets.CIFAR10(\n",
    "    root=\"data\",\n",
    "    train=True,\n",
    "    download=True\n",
    ")\n",
    "\n",
    "test_set = datasets.CIFAR10(\n",
    "    root=\"data\",\n",
    "    train=False,\n",
    "    download=True\n",
    ")\n",
    "\n",
    "# Список классов этого датасета\n",
    "classes = ['plane', 'car', 'bird', 'cat', 'deer', 'dog', 'frog', 'horse', 'ship', 'truck']"
   ]
  },
  {
   "cell_type": "code",
   "execution_count": 3,
   "id": "54RS34RtKCsj",
   "metadata": {
    "colab": {
     "base_uri": "https://localhost:8080/"
    },
    "executionInfo": {
     "elapsed": 608,
     "status": "ok",
     "timestamp": 1698585270830,
     "user": {
      "displayName": "Максим Соломинов",
      "userId": "06522016737720072557"
     },
     "user_tz": -180
    },
    "id": "54RS34RtKCsj",
    "outputId": "9e06dfe3-8902-472d-f131-e22180c358b8"
   },
   "outputs": [
    {
     "name": "stdout",
     "output_type": "stream",
     "text": [
      "torch.Size([50000, 3, 32, 32])\n",
      "torch.Size([50000])\n",
      "torch.Size([10000, 3, 32, 32])\n",
      "torch.Size([10000])\n"
     ]
    }
   ],
   "source": [
    "def extract_tensors(dataset):\n",
    "  x = torch.tensor(dataset.data, dtype=torch.float32).permute(0, 3, 1, 2).div_(255)\n",
    "  y = torch.tensor(dataset.targets, dtype=torch.int8)\n",
    "  return x, y\n",
    "\n",
    "# С помощью функции extract_tensors преобразуйте train_set и test_set.\n",
    "\n",
    "(x_train, y_train) = extract_tensors(train_set)\n",
    "(x_test, y_test) = extract_tensors(test_set)\n",
    "\n",
    "print(x_train.shape)\n",
    "print(y_train.shape)\n",
    "print(x_test.shape)\n",
    "print(y_test.shape)"
   ]
  },
  {
   "cell_type": "markdown",
   "id": "VcAy2pLfZfQO",
   "metadata": {
    "id": "VcAy2pLfZfQO"
   },
   "source": [
    "**Опишите что делает функция extract_tensors.**\n",
    "\n",
    "Ваш ответ: Извлекает тензоры (для X меняет размер в определенном порядке: permute) и нормализует (деление на 255)\n",
    "\n",
    "**Какие размерности у данных в обучающей и тестовой выборке? Сколько изображений в них, какого они размера и сколько в них каналов?**\n",
    "\n",
    "Ваш ответ: <br/>\n",
    "**в обучающей:** 50000 изображений, 32x32, 3 канала <br/>\n",
    "**в тестовой:** 10000 изображений, 32x32, 3 канала"
   ]
  },
  {
   "cell_type": "markdown",
   "id": "p_oey82Cak8L",
   "metadata": {
    "id": "p_oey82Cak8L"
   },
   "source": [
    "Выбирите одно из изображений в датасете и выведите его информацию по каналам, а также класс, к которому оно относится."
   ]
  },
  {
   "cell_type": "code",
   "execution_count": 4,
   "id": "HRkMOTF8BHF7",
   "metadata": {
    "executionInfo": {
     "elapsed": 251,
     "status": "ok",
     "timestamp": 1698585275215,
     "user": {
      "displayName": "Максим Соломинов",
      "userId": "06522016737720072557"
     },
     "user_tz": -180
    },
    "id": "HRkMOTF8BHF7"
   },
   "outputs": [],
   "source": [
    "index = 0\n",
    "img = x_train[index]\n",
    "numClass = y_train[index]"
   ]
  },
  {
   "cell_type": "code",
   "execution_count": 5,
   "id": "qHQQDF9bVP1n",
   "metadata": {
    "colab": {
     "base_uri": "https://localhost:8080/",
     "height": 245
    },
    "executionInfo": {
     "elapsed": 821,
     "status": "ok",
     "timestamp": 1698585277622,
     "user": {
      "displayName": "Максим Соломинов",
      "userId": "06522016737720072557"
     },
     "user_tz": -180
    },
    "id": "qHQQDF9bVP1n",
    "outputId": "92a2b368-fd0f-4570-cfb4-e0bbe95275ed"
   },
   "outputs": [
    {
     "name": "stdout",
     "output_type": "stream",
     "text": [
      "frog\n"
     ]
    },
    {
     "data": {
      "image/png": "[encoded data removed]",
      "text/plain": [
       "<Figure size 640x480 with 3 Axes>"
      ]
     },
     "metadata": {},
     "output_type": "display_data"
    }
   ],
   "source": [
    "fig, (ax1, ax2, ax3) = plt.subplots(1, 3)\n",
    "ax1.imshow(img[0])  # отображение канала R\n",
    "ax1.set_title(\"R\")\n",
    "ax2.imshow(img[1])  # отображение канала G\n",
    "ax2.set_title(\"G\")\n",
    "ax3.imshow(img[2])  # отображение канала B\n",
    "ax3.set_title(\"B\")\n",
    "fig.show()\n",
    "\n",
    "print(classes[numClass])  # вывод класса"
   ]
  },
  {
   "cell_type": "markdown",
   "id": "m-P7SphzbZTN",
   "metadata": {
    "id": "m-P7SphzbZTN"
   },
   "source": [
    "## Создание класса классификатора knn\n",
    "\n",
    "Используя тензоры torch реализуйте алгоритм к-ближайших соседей.\n",
    "Основные методы класса это fit для обучения модели и predict для предсказания индекса класса.\n",
    "\n",
    "Чтобы при подборе количества соседей не создавать новые экземпляры класса их количество мы будем передавать при вызове метода predict.\n",
    "\n",
    "В качестве метрики расстояния между иозбражениями реализуйте евклидово расстояние:\n",
    "\n",
    "$d(p, q) = \\sqrt{\\sum_{i=1}^{n} (p_i - q_i)^2}$\n",
    "\n",
    "Если вам необходимы дополнительные методы для реализации алгоритма, то добавляйте их в класс.\n",
    "\n",
    "Вам могут пригодится следующие методы:\n",
    "\n",
    "- torch.stack\n",
    "- torch.unsqueeze\n",
    "- torch.sum\n",
    "- torch.mean\n",
    "- torch.mode\n",
    "- torch.topk"
   ]
  },
  {
   "cell_type": "code",
   "execution_count": 24,
   "id": "75ed0be4-5b53-415a-9fc0-96f84bd0ea75",
   "metadata": {
    "executionInfo": {
     "elapsed": 250,
     "status": "ok",
     "timestamp": 1698585786823,
     "user": {
      "displayName": "Максим Соломинов",
      "userId": "06522016737720072557"
     },
     "user_tz": -180
    },
    "id": "75ed0be4-5b53-415a-9fc0-96f84bd0ea75"
   },
   "outputs": [],
   "source": [
    "class KnnClassifier:\n",
    "\n",
    "    def fit(self, X, y):\n",
    "      self.Xtr = X\n",
    "      self.ytr = y\n",
    "\n",
    "    def predict(self, samples, k):\n",
    "      Ypred = torch.zeros(samples.shape[0])\n",
    "      for i, sample in enumerate(samples):\n",
    "\n",
    "        sample = sample.unsqueeze(0)\n",
    "        distance = torch.sum((self.Xtr - sample)**2, 1)**0.5\n",
    "        distance = distance.mean(dim = (1, 2))\n",
    "        kmeans = torch.topk(distance, k, sorted = True, largest=False).indices.mode().values\n",
    "\n",
    "        Ypred[i] = self.ytr[kmeans]\n",
    "      return Ypred"
   ]
  },
  {
   "cell_type": "markdown",
   "id": "C3udSilEh_i5",
   "metadata": {
    "id": "C3udSilEh_i5"
   },
   "source": [
    "**Опишите словами алгоритм работы knn.**\n",
    "\n",
    "Ваш ответ:\n",
    "\n",
    "**Какие еще бывают метрики расстояния?**\n",
    "\n",
    "Ваш ответ:"
   ]
  },
  {
   "cell_type": "markdown",
   "id": "fWwL6qIfhusp",
   "metadata": {
    "id": "fWwL6qIfhusp"
   },
   "source": [
    "## Создание экземпляра классификатора\n",
    "\n",
    "Создайте и обучите ваш классификатор. Во время реализации вы можете использовать часть данных, чтобы меньше времени ожидать вычисления."
   ]
  },
  {
   "cell_type": "code",
   "execution_count": 37,
   "id": "9ca633e5-1892-4c57-a3f5-9c3887ab2ad8",
   "metadata": {
    "executionInfo": {
     "elapsed": 217,
     "status": "ok",
     "timestamp": 1698586053027,
     "user": {
      "displayName": "Максим Соломинов",
      "userId": "06522016737720072557"
     },
     "user_tz": -180
    },
    "id": "9ca633e5-1892-4c57-a3f5-9c3887ab2ad8"
   },
   "outputs": [],
   "source": [
    "clf = KnnClassifier()"
   ]
  },
  {
   "cell_type": "code",
   "execution_count": 38,
   "id": "af8c71f0-4e5c-4a93-ab4a-7a85a50013dc",
   "metadata": {
    "executionInfo": {
     "elapsed": 1,
     "status": "ok",
     "timestamp": 1698586053993,
     "user": {
      "displayName": "Максим Соломинов",
      "userId": "06522016737720072557"
     },
     "user_tz": -180
    },
    "id": "af8c71f0-4e5c-4a93-ab4a-7a85a50013dc"
   },
   "outputs": [],
   "source": [
    "clf.fit(x_train, y_train)  # Обучите вашу модель"
   ]
  },
  {
   "cell_type": "code",
   "execution_count": 39,
   "id": "6e623d5f-f8af-4eed-afff-6c40ca0e4063",
   "metadata": {
    "executionInfo": {
     "elapsed": 58459,
     "status": "ok",
     "timestamp": 1698586114363,
     "user": {
      "displayName": "Максим Соломинов",
      "userId": "06522016737720072557"
     },
     "user_tz": -180
    },
    "id": "6e623d5f-f8af-4eed-afff-6c40ca0e4063"
   },
   "outputs": [],
   "source": [
    "countOfTests = 50\n",
    "res = clf.predict(x_test[:countOfTests], 3)  # Проверьте ее предсказания"
   ]
  },
  {
   "cell_type": "markdown",
   "id": "rAbrEIr5isvd",
   "metadata": {
    "id": "rAbrEIr5isvd"
   },
   "source": [
    "## Оценка модели\n",
    "\n",
    "Реализуйте оценку модели, которая покажет процент правильно предсказанных классов."
   ]
  },
  {
   "cell_type": "code",
   "execution_count": 40,
   "id": "9e728cf7-a717-4c1c-ab6f-c389d2f6231c",
   "metadata": {
    "executionInfo": {
     "elapsed": 218,
     "status": "ok",
     "timestamp": 1698586123851,
     "user": {
      "displayName": "Максим Соломинов",
      "userId": "06522016737720072557"
     },
     "user_tz": -180
    },
    "id": "9e728cf7-a717-4c1c-ab6f-c389d2f6231c"
   },
   "outputs": [],
   "source": [
    "def score(y, y_ground):\n",
    "  return int((torch.sum(torch.eq(y, y_ground))/y.shape[0])*100)"
   ]
  },
  {
   "cell_type": "code",
   "execution_count": 41,
   "id": "1f05c94b-1f62-439b-b9d6-7ce911b40fb5",
   "metadata": {
    "colab": {
     "base_uri": "https://localhost:8080/"
    },
    "executionInfo": {
     "elapsed": 2,
     "status": "ok",
     "timestamp": 1698586124832,
     "user": {
      "displayName": "Максим Соломинов",
      "userId": "06522016737720072557"
     },
     "user_tz": -180
    },
    "id": "1f05c94b-1f62-439b-b9d6-7ce911b40fb5",
    "outputId": "dcc36225-9fbd-4f68-b535-ed93d2798507"
   },
   "outputs": [
    {
     "data": {
      "text/plain": [
       "28"
      ]
     },
     "execution_count": 41,
     "metadata": {},
     "output_type": "execute_result"
    }
   ],
   "source": [
    "score(res, y_test[:countOfTests])  # Оцените качество работы вашей моделиq"
   ]
  },
  {
   "cell_type": "markdown",
   "id": "bsq2sqEsjj6F",
   "metadata": {
    "id": "bsq2sqEsjj6F"
   },
   "source": [
    "## Подбор оптимального числа соседей\n",
    "\n",
    "Попробуйте разное число соседей при предсказании вашей модели и выбирите количество соседей, которое дает наивысшую оценку.\n",
    "\n",
    "Можно попробовать k = [1,3,5,7,9,11,15,20,30,40,50,60]."
   ]
  },
  {
   "cell_type": "code",
   "execution_count": 42,
   "id": "EiV0O_X3kNTz",
   "metadata": {
    "colab": {
     "base_uri": "https://localhost:8080/"
    },
    "executionInfo": {
     "elapsed": 636834,
     "status": "ok",
     "timestamp": 1698586768365,
     "user": {
      "displayName": "Максим Соломинов",
      "userId": "06522016737720072557"
     },
     "user_tz": -180
    },
    "id": "EiV0O_X3kNTz",
    "outputId": "8763656b-c1d1-46ac-8f46-5b951d50c2f5"
   },
   "outputs": [
    {
     "name": "stdout",
     "output_type": "stream",
     "text": [
      "K: 1 , Acc: 32 %\n",
      "K: 3 , Acc: 28 %\n",
      "K: 5 , Acc: 24 %\n",
      "K: 7 , Acc: 26 %\n",
      "K: 9 , Acc: 24 %\n",
      "K: 11 , Acc: 18 %\n",
      "K: 15 , Acc: 22 %\n",
      "K: 20 , Acc: 22 %\n",
      "K: 30 , Acc: 18 %\n",
      "K: 40 , Acc: 18 %\n",
      "K: 50 , Acc: 18 %\n",
      "K: 60 , Acc: 18 %\n"
     ]
    }
   ],
   "source": [
    "# реализуйте подбор параметра k\n",
    "\n",
    "K = [1,3,5,7,9,11,15,20,30,40,50,60]\n",
    "for k in K:\n",
    "    res = clf.predict(x_test[:countOfTests], k)\n",
    "    print(\"K:\", k, \", Acc:\", score(res, y_test[:countOfTests]),\"%\")"
   ]
  },
  {
   "cell_type": "markdown",
   "id": "iUmSDGk1kdOW",
   "metadata": {
    "id": "iUmSDGk1kdOW"
   },
   "source": [
    "## Финальный результат\n",
    "\n",
    "Теперь когда вы знаете оптимальное количество соседей для решения этой задачи методом к-ближайших соседей. Обучите модель на всех тренировочных данных и выведите итоговый результат работы для всех тестовых даных."
   ]
  },
  {
   "cell_type": "code",
   "execution_count": 43,
   "id": "eHUiTBl6lAPt",
   "metadata": {
    "colab": {
     "base_uri": "https://localhost:8080/"
    },
    "executionInfo": {
     "elapsed": 11230158,
     "status": "ok",
     "timestamp": 1698598290940,
     "user": {
      "displayName": "Максим Соломинов",
      "userId": "06522016737720072557"
     },
     "user_tz": -180
    },
    "id": "eHUiTBl6lAPt",
    "outputId": "9f5efa08-9408-4cbc-9e8f-b49d89a1d632"
   },
   "outputs": [
    {
     "name": "stdout",
     "output_type": "stream",
     "text": [
      "-----------------------------------------------\n",
      "K: 1 acc: 39 %\n"
     ]
    }
   ],
   "source": [
    "k=1\n",
    "clf = KnnClassifier()\n",
    "clf.fit(x_train, y_train)\n",
    "result = clf.predict(x_test, k)\n",
    "print(\"-----------------------------------------------\")\n",
    "print(\"K:\", k, \"acc:\", score(result, y_test),\"%\")"
   ]
  },
  {
   "cell_type": "markdown",
   "id": "2AVJznKMlEIa",
   "metadata": {
    "id": "2AVJznKMlEIa"
   },
   "source": [
    "**Итоговая оценка работы модели**\n",
    "\n",
    "Ваш ответ:"
   ]
  }
 ],
 "metadata": {
  "colab": {
   "provenance": []
  },
  "kernelspec": {
   "display_name": "Python 3",
   "name": "python3"
  },
  "language_info": {
   "codemirror_mode": {
    "name": "ipython",
    "version": 3
   },
   "file_extension": ".py",
   "mimetype": "text/x-python",
   "name": "python",
   "nbconvert_exporter": "python",
   "pygments_lexer": "ipython3",
   "version": "3.11.5"
  }
 },
 "nbformat": 4,
 "nbformat_minor": 5
}
